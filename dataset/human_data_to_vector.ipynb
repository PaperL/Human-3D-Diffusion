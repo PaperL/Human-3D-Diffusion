{
 "cells": [
  {
   "cell_type": "code",
   "execution_count": null,
   "metadata": {},
   "outputs": [],
   "source": [
    "from mmhuman3d.data.data_structures.human_data import HumanData\n",
    "import numpy as np\n",
    "from pathlib import Path\n",
    "from tqdm.notebook import tqdm\n",
    "import mmhuman3d\n",
    "print('mmhuman3d:', mmhuman3d.__version__)"
   ]
  },
  {
   "cell_type": "code",
   "execution_count": null,
   "metadata": {},
   "outputs": [],
   "source": [
    "dataset_folder_path = Path('/home/paperlane/workspace/@Python/dataset')\n",
    "assert dataset_folder_path.is_dir()\n",
    "assert dataset_folder_path.exists()\n",
    "npz_file_paths = list(dataset_folder_path.rglob('*.npz'))\n",
    "assert len(npz_file_paths) > 0\n",
    "print('Find', len(npz_file_paths), 'npz file(s).')"
   ]
  },
  {
   "cell_type": "code",
   "execution_count": null,
   "metadata": {},
   "outputs": [],
   "source": [
    "for npz_file_path in tqdm(npz_file_paths):\n",
    "    # print(str(npz_file_path))\n",
    "    dat = HumanData.fromfile(str(npz_file_path))\n",
    "    # print('Keys:', dat.keys())\n",
    "    n = dat['person_id'].shape[0]\n",
    "    # print('Person Num:', n)\n",
    "    # print('SMPL Data Type:', *((x, y.shape)\n",
    "    #       for x, y in dat['smpl'].items()), sep='\\n')\n",
    "    ret = np.empty([n, 0])\n",
    "    for smpl_type in dat['smpl'].keys():\n",
    "        np_array = dat['smpl'][smpl_type]\n",
    "        np_array = np_array.reshape(n, -1)\n",
    "        ret = np.concatenate((ret, np_array), axis=1)\n",
    "    # print('Result np.array.shape:', ret.shape)\n"
   ]
  }
 ],
 "metadata": {
  "kernelspec": {
   "display_name": "Python 3.8.13 ('mmlab')",
   "language": "python",
   "name": "python3"
  },
  "language_info": {
   "codemirror_mode": {
    "name": "ipython",
    "version": 3
   },
   "file_extension": ".py",
   "mimetype": "text/x-python",
   "name": "python",
   "nbconvert_exporter": "python",
   "pygments_lexer": "ipython3",
   "version": "3.8.15"
  },
  "orig_nbformat": 4,
  "vscode": {
   "interpreter": {
    "hash": "10fc1a63742c7a2962bc478b84776bcfc8b312b3161741c04a1b867811ec3fb9"
   }
  }
 },
 "nbformat": 4,
 "nbformat_minor": 2
}
